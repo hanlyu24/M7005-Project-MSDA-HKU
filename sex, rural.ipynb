{
 "cells": [
  {
   "cell_type": "code",
   "execution_count": 3,
   "id": "9778801d-36b0-4db4-abbe-923b848e267d",
   "metadata": {},
   "outputs": [
    {
     "ename": "FileNotFoundError",
     "evalue": "[Errno 2] No such file or directory: 'Demograghic_Background.dta'",
     "output_type": "error",
     "traceback": [
      "\u001b[0;31m---------------------------------------------------------------------------\u001b[0m",
      "\u001b[0;31mFileNotFoundError\u001b[0m                         Traceback (most recent call last)",
      "Cell \u001b[0;32mIn[3], line 9\u001b[0m\n\u001b[1;32m      4\u001b[0m \u001b[38;5;28;01mimport\u001b[39;00m \u001b[38;5;21;01mseaborn\u001b[39;00m \u001b[38;5;28;01mas\u001b[39;00m \u001b[38;5;21;01msns\u001b[39;00m\n\u001b[1;32m      5\u001b[0m \u001b[38;5;28;01mimport\u001b[39;00m \u001b[38;5;21;01mos\u001b[39;00m\n\u001b[0;32m----> 9\u001b[0m df \u001b[38;5;241m=\u001b[39m pd\u001b[38;5;241m.\u001b[39mread_stata(\u001b[38;5;124m'\u001b[39m\u001b[38;5;124mDemograghic_Background.dta\u001b[39m\u001b[38;5;124m'\u001b[39m)\n",
      "File \u001b[0;32m/opt/conda/envs/anaconda-panel-2023.05-py310/lib/python3.11/site-packages/pandas/io/stata.py:2090\u001b[0m, in \u001b[0;36mread_stata\u001b[0;34m(filepath_or_buffer, convert_dates, convert_categoricals, index_col, convert_missing, preserve_dtypes, columns, order_categoricals, chunksize, iterator, compression, storage_options)\u001b[0m\n\u001b[1;32m   2087\u001b[0m     \u001b[38;5;28;01mreturn\u001b[39;00m reader\n\u001b[1;32m   2089\u001b[0m \u001b[38;5;28;01mwith\u001b[39;00m reader:\n\u001b[0;32m-> 2090\u001b[0m     \u001b[38;5;28;01mreturn\u001b[39;00m reader\u001b[38;5;241m.\u001b[39mread()\n",
      "File \u001b[0;32m/opt/conda/envs/anaconda-panel-2023.05-py310/lib/python3.11/site-packages/pandas/io/stata.py:1702\u001b[0m, in \u001b[0;36mStataReader.read\u001b[0;34m(self, nrows, convert_dates, convert_categoricals, index_col, convert_missing, preserve_dtypes, columns, order_categoricals)\u001b[0m\n\u001b[1;32m   1690\u001b[0m \u001b[38;5;129m@Appender\u001b[39m(_read_method_doc)\n\u001b[1;32m   1691\u001b[0m \u001b[38;5;28;01mdef\u001b[39;00m \u001b[38;5;21mread\u001b[39m(\n\u001b[1;32m   1692\u001b[0m     \u001b[38;5;28mself\u001b[39m,\n\u001b[0;32m   (...)\u001b[0m\n\u001b[1;32m   1700\u001b[0m     order_categoricals: \u001b[38;5;28mbool\u001b[39m \u001b[38;5;241m|\u001b[39m \u001b[38;5;28;01mNone\u001b[39;00m \u001b[38;5;241m=\u001b[39m \u001b[38;5;28;01mNone\u001b[39;00m,\n\u001b[1;32m   1701\u001b[0m ) \u001b[38;5;241m-\u001b[39m\u001b[38;5;241m>\u001b[39m DataFrame:\n\u001b[0;32m-> 1702\u001b[0m     \u001b[38;5;28mself\u001b[39m\u001b[38;5;241m.\u001b[39m_ensure_open()\n\u001b[1;32m   1703\u001b[0m     \u001b[38;5;66;03m# Handle empty file or chunk.  If reading incrementally raise\u001b[39;00m\n\u001b[1;32m   1704\u001b[0m     \u001b[38;5;66;03m# StopIteration.  If reading the whole thing return an empty\u001b[39;00m\n\u001b[1;32m   1705\u001b[0m     \u001b[38;5;66;03m# data frame.\u001b[39;00m\n\u001b[1;32m   1706\u001b[0m     \u001b[38;5;28;01mif\u001b[39;00m (\u001b[38;5;28mself\u001b[39m\u001b[38;5;241m.\u001b[39m_nobs \u001b[38;5;241m==\u001b[39m \u001b[38;5;241m0\u001b[39m) \u001b[38;5;129;01mand\u001b[39;00m (nrows \u001b[38;5;129;01mis\u001b[39;00m \u001b[38;5;28;01mNone\u001b[39;00m):\n",
      "File \u001b[0;32m/opt/conda/envs/anaconda-panel-2023.05-py310/lib/python3.11/site-packages/pandas/io/stata.py:1176\u001b[0m, in \u001b[0;36mStataReader._ensure_open\u001b[0;34m(self)\u001b[0m\n\u001b[1;32m   1172\u001b[0m \u001b[38;5;250m\u001b[39m\u001b[38;5;124;03m\"\"\"\u001b[39;00m\n\u001b[1;32m   1173\u001b[0m \u001b[38;5;124;03mEnsure the file has been opened and its header data read.\u001b[39;00m\n\u001b[1;32m   1174\u001b[0m \u001b[38;5;124;03m\"\"\"\u001b[39;00m\n\u001b[1;32m   1175\u001b[0m \u001b[38;5;28;01mif\u001b[39;00m \u001b[38;5;129;01mnot\u001b[39;00m \u001b[38;5;28mhasattr\u001b[39m(\u001b[38;5;28mself\u001b[39m, \u001b[38;5;124m\"\u001b[39m\u001b[38;5;124m_path_or_buf\u001b[39m\u001b[38;5;124m\"\u001b[39m):\n\u001b[0;32m-> 1176\u001b[0m     \u001b[38;5;28mself\u001b[39m\u001b[38;5;241m.\u001b[39m_open_file()\n",
      "File \u001b[0;32m/opt/conda/envs/anaconda-panel-2023.05-py310/lib/python3.11/site-packages/pandas/io/stata.py:1189\u001b[0m, in \u001b[0;36mStataReader._open_file\u001b[0;34m(self)\u001b[0m\n\u001b[1;32m   1182\u001b[0m \u001b[38;5;28;01mif\u001b[39;00m \u001b[38;5;129;01mnot\u001b[39;00m \u001b[38;5;28mself\u001b[39m\u001b[38;5;241m.\u001b[39m_entered:\n\u001b[1;32m   1183\u001b[0m     warnings\u001b[38;5;241m.\u001b[39mwarn(\n\u001b[1;32m   1184\u001b[0m         \u001b[38;5;124m\"\u001b[39m\u001b[38;5;124mStataReader is being used without using a context manager. \u001b[39m\u001b[38;5;124m\"\u001b[39m\n\u001b[1;32m   1185\u001b[0m         \u001b[38;5;124m\"\u001b[39m\u001b[38;5;124mUsing StataReader as a context manager is the only supported method.\u001b[39m\u001b[38;5;124m\"\u001b[39m,\n\u001b[1;32m   1186\u001b[0m         \u001b[38;5;167;01mResourceWarning\u001b[39;00m,\n\u001b[1;32m   1187\u001b[0m         stacklevel\u001b[38;5;241m=\u001b[39mfind_stack_level(),\n\u001b[1;32m   1188\u001b[0m     )\n\u001b[0;32m-> 1189\u001b[0m handles \u001b[38;5;241m=\u001b[39m get_handle(\n\u001b[1;32m   1190\u001b[0m     \u001b[38;5;28mself\u001b[39m\u001b[38;5;241m.\u001b[39m_original_path_or_buf,\n\u001b[1;32m   1191\u001b[0m     \u001b[38;5;124m\"\u001b[39m\u001b[38;5;124mrb\u001b[39m\u001b[38;5;124m\"\u001b[39m,\n\u001b[1;32m   1192\u001b[0m     storage_options\u001b[38;5;241m=\u001b[39m\u001b[38;5;28mself\u001b[39m\u001b[38;5;241m.\u001b[39m_storage_options,\n\u001b[1;32m   1193\u001b[0m     is_text\u001b[38;5;241m=\u001b[39m\u001b[38;5;28;01mFalse\u001b[39;00m,\n\u001b[1;32m   1194\u001b[0m     compression\u001b[38;5;241m=\u001b[39m\u001b[38;5;28mself\u001b[39m\u001b[38;5;241m.\u001b[39m_compression,\n\u001b[1;32m   1195\u001b[0m )\n\u001b[1;32m   1196\u001b[0m \u001b[38;5;28;01mif\u001b[39;00m \u001b[38;5;28mhasattr\u001b[39m(handles\u001b[38;5;241m.\u001b[39mhandle, \u001b[38;5;124m\"\u001b[39m\u001b[38;5;124mseekable\u001b[39m\u001b[38;5;124m\"\u001b[39m) \u001b[38;5;129;01mand\u001b[39;00m handles\u001b[38;5;241m.\u001b[39mhandle\u001b[38;5;241m.\u001b[39mseekable():\n\u001b[1;32m   1197\u001b[0m     \u001b[38;5;66;03m# If the handle is directly seekable, use it without an extra copy.\u001b[39;00m\n\u001b[1;32m   1198\u001b[0m     \u001b[38;5;28mself\u001b[39m\u001b[38;5;241m.\u001b[39m_path_or_buf \u001b[38;5;241m=\u001b[39m handles\u001b[38;5;241m.\u001b[39mhandle\n",
      "File \u001b[0;32m/opt/conda/envs/anaconda-panel-2023.05-py310/lib/python3.11/site-packages/pandas/io/common.py:868\u001b[0m, in \u001b[0;36mget_handle\u001b[0;34m(path_or_buf, mode, encoding, compression, memory_map, is_text, errors, storage_options)\u001b[0m\n\u001b[1;32m    859\u001b[0m         handle \u001b[38;5;241m=\u001b[39m \u001b[38;5;28mopen\u001b[39m(\n\u001b[1;32m    860\u001b[0m             handle,\n\u001b[1;32m    861\u001b[0m             ioargs\u001b[38;5;241m.\u001b[39mmode,\n\u001b[0;32m   (...)\u001b[0m\n\u001b[1;32m    864\u001b[0m             newline\u001b[38;5;241m=\u001b[39m\u001b[38;5;124m\"\u001b[39m\u001b[38;5;124m\"\u001b[39m,\n\u001b[1;32m    865\u001b[0m         )\n\u001b[1;32m    866\u001b[0m     \u001b[38;5;28;01melse\u001b[39;00m:\n\u001b[1;32m    867\u001b[0m         \u001b[38;5;66;03m# Binary mode\u001b[39;00m\n\u001b[0;32m--> 868\u001b[0m         handle \u001b[38;5;241m=\u001b[39m \u001b[38;5;28mopen\u001b[39m(handle, ioargs\u001b[38;5;241m.\u001b[39mmode)\n\u001b[1;32m    869\u001b[0m     handles\u001b[38;5;241m.\u001b[39mappend(handle)\n\u001b[1;32m    871\u001b[0m \u001b[38;5;66;03m# Convert BytesIO or file objects passed with an encoding\u001b[39;00m\n",
      "\u001b[0;31mFileNotFoundError\u001b[0m: [Errno 2] No such file or directory: 'Demograghic_Background.dta'"
     ]
    }
   ],
   "source": []
  },
  {
   "cell_type": "code",
   "execution_count": 22,
   "id": "ebe6c08d-c87e-4a77-9f5e-e6f95caaba8e",
   "metadata": {},
   "outputs": [],
   "source": [
    "import os\n",
    "import pandas as pd\n",
    "df = pd.io.stata.read_stata('Household_Income.dta')\n",
    "df = pd.io.stata.read_stata('Individual_Income.dta')"
   ]
  },
  {
   "cell_type": "code",
   "execution_count": 23,
   "id": "515d5044-cbd2-44ce-b23d-2ef63bb8be13",
   "metadata": {},
   "outputs": [
    {
     "data": {
      "text/plain": [
       "(19755, 124)"
      ]
     },
     "execution_count": 23,
     "metadata": {},
     "output_type": "execute_result"
    }
   ],
   "source": [
    "df.shape"
   ]
  },
  {
   "cell_type": "code",
   "execution_count": 26,
   "id": "9defb47f-a763-4a76-95ea-5c6f598ff468",
   "metadata": {},
   "outputs": [
    {
     "data": {
      "text/plain": [
       "<bound method NDFrame.head of                  ID householdID communityID  ga001    ga002  ga002_min  \\\n",
       "0      094004113002  0940041130     0940041   2 No      NaN        NaN   \n",
       "1      094004111002  0940041110     0940041   2 No      NaN        NaN   \n",
       "2      094004111001  0940041110     0940041   2 No      NaN        NaN   \n",
       "3      094004112001  0940041120     0940041   2 No      NaN        NaN   \n",
       "4      094004118001  0940041180     0940041   2 No      NaN        NaN   \n",
       "...             ...         ...         ...    ...      ...        ...   \n",
       "19750  294099304001  2940993040     2940993   2 No      NaN        NaN   \n",
       "19751  294099303002  2940993030     2940993  1 Yes  40000.0        NaN   \n",
       "19752  294099303001  2940993030     2940993  1 Yes   1200.0        NaN   \n",
       "19753  294099311001  2940993110     2940993  1 Yes  30000.0        NaN   \n",
       "19754  294099311002  2940993110     2940993   2 No      NaN        NaN   \n",
       "\n",
       "       ga002_max ga002_w2_1 ga002_w2_2  ga002_w2_2a  ...  hd006_w4  \\\n",
       "0            NaN        NaN        NaN          NaN  ...      2 No   \n",
       "1            NaN        NaN        NaN          NaN  ...      2 No   \n",
       "2            NaN        NaN        NaN          NaN  ...      2 No   \n",
       "3            NaN        NaN        NaN          NaN  ...      2 No   \n",
       "4            NaN        NaN        NaN          NaN  ...     1 Yes   \n",
       "...          ...        ...        ...          ...  ...       ...   \n",
       "19750        NaN        NaN        NaN          NaN  ...     1 Yes   \n",
       "19751        NaN       2 No       4 No          NaN  ...      2 No   \n",
       "19752        NaN       2 No       4 No          NaN  ...      2 No   \n",
       "19753        NaN      1 Yes       4 No          NaN  ...      2 No   \n",
       "19754        NaN        NaN        NaN          NaN  ...      2 No   \n",
       "\n",
       "                hd007_w4  hd008_w4  hd005_w4 hd005_w4_0 hd005_w4_1 hd005_w4_2  \\\n",
       "0                    NaN       NaN     1 Yes        1.0        0.0        NaN   \n",
       "1                    NaN       NaN     1 Yes        1.0    50000.0     2016.0   \n",
       "2                    NaN       NaN     1 Yes        1.0    50000.0     2016.0   \n",
       "3                    NaN       NaN      2 No        NaN        NaN        NaN   \n",
       "4      1 Telephone Fraud       0.0      2 No        NaN        NaN        NaN   \n",
       "...                  ...       ...       ...        ...        ...        ...   \n",
       "19750  1 Telephone Fraud       0.0      2 No        NaN        NaN        NaN   \n",
       "19751                NaN       NaN      2 No        NaN        NaN        NaN   \n",
       "19752                NaN       NaN      2 No        NaN        NaN        NaN   \n",
       "19753                NaN       NaN      2 No        NaN        NaN        NaN   \n",
       "19754                NaN       NaN      2 No        NaN        NaN        NaN   \n",
       "\n",
       "              hd012          xrtype versionID  \n",
       "0           1 Never  1 RE Interview  20200914  \n",
       "1           1 Never  1 RE Interview  20200914  \n",
       "2           1 Never  1 RE Interview  20200914  \n",
       "3           1 Never  1 RE Interview  20200914  \n",
       "4           1 Never  1 RE Interview  20200914  \n",
       "...             ...             ...       ...  \n",
       "19750       1 Never  1 RE Interview  20200914  \n",
       "19751  2 A Few Time  1 RE Interview  20200914  \n",
       "19752       1 Never  1 RE Interview  20200914  \n",
       "19753       1 Never  1 RE Interview  20200914  \n",
       "19754       1 Never  1 RE Interview  20200914  \n",
       "\n",
       "[19755 rows x 124 columns]>"
      ]
     },
     "execution_count": 26,
     "metadata": {},
     "output_type": "execute_result"
    }
   ],
   "source": [
    "df.head\n"
   ]
  },
  {
   "cell_type": "code",
   "execution_count": 21,
   "id": "ebafb15d-83ab-4120-9687-210221e089cf",
   "metadata": {},
   "outputs": [
    {
     "data": {
      "text/html": [
       "<div>\n",
       "<style scoped>\n",
       "    .dataframe tbody tr th:only-of-type {\n",
       "        vertical-align: middle;\n",
       "    }\n",
       "\n",
       "    .dataframe tbody tr th {\n",
       "        vertical-align: top;\n",
       "    }\n",
       "\n",
       "    .dataframe thead th {\n",
       "        text-align: right;\n",
       "    }\n",
       "</style>\n",
       "<table border=\"1\" class=\"dataframe\">\n",
       "  <thead>\n",
       "    <tr style=\"text-align: right;\">\n",
       "      <th></th>\n",
       "      <th>ga006_w4_1_</th>\n",
       "      <th>ga006_w4_2_</th>\n",
       "      <th>ga006_w4_3_</th>\n",
       "      <th>ga006_w4_4_</th>\n",
       "      <th>ga006_w4_5_</th>\n",
       "      <th>ga006_w4_6_</th>\n",
       "      <th>ga006_w4_7_</th>\n",
       "      <th>ga006_w4_8_</th>\n",
       "      <th>ga006_w4_1__min</th>\n",
       "      <th>ga006_w4_1__max</th>\n",
       "      <th>...</th>\n",
       "      <th>ha065_18</th>\n",
       "      <th>ha066_w4_1</th>\n",
       "      <th>ha066_w4_2</th>\n",
       "      <th>ha066_w4_3</th>\n",
       "      <th>ha066_w4_4</th>\n",
       "      <th>ha066_w4_5</th>\n",
       "      <th>ha066_w4_6</th>\n",
       "      <th>ha066_w4_7</th>\n",
       "      <th>ha067_w4</th>\n",
       "      <th>ha068_1</th>\n",
       "    </tr>\n",
       "  </thead>\n",
       "  <tbody>\n",
       "    <tr>\n",
       "      <th>count</th>\n",
       "      <td>1499.000000</td>\n",
       "      <td>704.000000</td>\n",
       "      <td>173.000000</td>\n",
       "      <td>54.000000</td>\n",
       "      <td>11.000000</td>\n",
       "      <td>9.000000</td>\n",
       "      <td>2.000000</td>\n",
       "      <td>1.0</td>\n",
       "      <td>195.000000</td>\n",
       "      <td>202.000000</td>\n",
       "      <td>...</td>\n",
       "      <td>208.000000</td>\n",
       "      <td>981.000000</td>\n",
       "      <td>350.000000</td>\n",
       "      <td>59.000000</td>\n",
       "      <td>1189.000000</td>\n",
       "      <td>3.250000e+02</td>\n",
       "      <td>265.000000</td>\n",
       "      <td>6.000000</td>\n",
       "      <td>1.149400e+04</td>\n",
       "      <td>598.000000</td>\n",
       "    </tr>\n",
       "    <tr>\n",
       "      <th>mean</th>\n",
       "      <td>33766.995997</td>\n",
       "      <td>31151.041193</td>\n",
       "      <td>24982.658960</td>\n",
       "      <td>27685.925926</td>\n",
       "      <td>21572.727273</td>\n",
       "      <td>23277.777778</td>\n",
       "      <td>8000.000000</td>\n",
       "      <td>18000.0</td>\n",
       "      <td>27051.281250</td>\n",
       "      <td>34133.664062</td>\n",
       "      <td>...</td>\n",
       "      <td>1333.165894</td>\n",
       "      <td>4956.912109</td>\n",
       "      <td>1593.508571</td>\n",
       "      <td>15485.593220</td>\n",
       "      <td>756.040370</td>\n",
       "      <td>5.861092e+03</td>\n",
       "      <td>1093.743396</td>\n",
       "      <td>486.666667</td>\n",
       "      <td>1.578036e+04</td>\n",
       "      <td>14747.158863</td>\n",
       "    </tr>\n",
       "    <tr>\n",
       "      <th>std</th>\n",
       "      <td>38415.843557</td>\n",
       "      <td>34934.190006</td>\n",
       "      <td>17019.735326</td>\n",
       "      <td>26473.837175</td>\n",
       "      <td>14968.105485</td>\n",
       "      <td>17126.571299</td>\n",
       "      <td>2828.427125</td>\n",
       "      <td>NaN</td>\n",
       "      <td>22225.335938</td>\n",
       "      <td>24517.583984</td>\n",
       "      <td>...</td>\n",
       "      <td>1874.727417</td>\n",
       "      <td>22609.279297</td>\n",
       "      <td>11637.717349</td>\n",
       "      <td>37703.971769</td>\n",
       "      <td>8799.359756</td>\n",
       "      <td>6.766320e+04</td>\n",
       "      <td>3235.118078</td>\n",
       "      <td>803.284922</td>\n",
       "      <td>3.211155e+05</td>\n",
       "      <td>71454.827185</td>\n",
       "    </tr>\n",
       "    <tr>\n",
       "      <th>min</th>\n",
       "      <td>0.000000</td>\n",
       "      <td>0.000000</td>\n",
       "      <td>500.000000</td>\n",
       "      <td>500.000000</td>\n",
       "      <td>3500.000000</td>\n",
       "      <td>2500.000000</td>\n",
       "      <td>6000.000000</td>\n",
       "      <td>18000.0</td>\n",
       "      <td>5000.000000</td>\n",
       "      <td>5000.000000</td>\n",
       "      <td>...</td>\n",
       "      <td>0.000000</td>\n",
       "      <td>0.000000</td>\n",
       "      <td>0.000000</td>\n",
       "      <td>0.000000</td>\n",
       "      <td>0.000000</td>\n",
       "      <td>0.000000e+00</td>\n",
       "      <td>0.000000</td>\n",
       "      <td>0.000000</td>\n",
       "      <td>0.000000e+00</td>\n",
       "      <td>0.000000</td>\n",
       "    </tr>\n",
       "    <tr>\n",
       "      <th>25%</th>\n",
       "      <td>15000.000000</td>\n",
       "      <td>15000.000000</td>\n",
       "      <td>12000.000000</td>\n",
       "      <td>12750.000000</td>\n",
       "      <td>10500.000000</td>\n",
       "      <td>12000.000000</td>\n",
       "      <td>7000.000000</td>\n",
       "      <td>18000.0</td>\n",
       "      <td>10000.000000</td>\n",
       "      <td>10000.000000</td>\n",
       "      <td>...</td>\n",
       "      <td>100.000000</td>\n",
       "      <td>800.000000</td>\n",
       "      <td>100.000000</td>\n",
       "      <td>450.000000</td>\n",
       "      <td>100.000000</td>\n",
       "      <td>2.000000e+02</td>\n",
       "      <td>100.000000</td>\n",
       "      <td>12.500000</td>\n",
       "      <td>0.000000e+00</td>\n",
       "      <td>700.000000</td>\n",
       "    </tr>\n",
       "    <tr>\n",
       "      <th>50%</th>\n",
       "      <td>30000.000000</td>\n",
       "      <td>24335.000000</td>\n",
       "      <td>21960.000000</td>\n",
       "      <td>20000.000000</td>\n",
       "      <td>19200.000000</td>\n",
       "      <td>15000.000000</td>\n",
       "      <td>8000.000000</td>\n",
       "      <td>18000.0</td>\n",
       "      <td>30000.000000</td>\n",
       "      <td>30000.000000</td>\n",
       "      <td>...</td>\n",
       "      <td>565.000000</td>\n",
       "      <td>1500.000000</td>\n",
       "      <td>300.000000</td>\n",
       "      <td>1300.000000</td>\n",
       "      <td>200.000000</td>\n",
       "      <td>5.000000e+02</td>\n",
       "      <td>300.000000</td>\n",
       "      <td>60.000000</td>\n",
       "      <td>0.000000e+00</td>\n",
       "      <td>2000.000000</td>\n",
       "    </tr>\n",
       "    <tr>\n",
       "      <th>75%</th>\n",
       "      <td>40000.000000</td>\n",
       "      <td>40000.000000</td>\n",
       "      <td>35000.000000</td>\n",
       "      <td>35750.000000</td>\n",
       "      <td>33000.000000</td>\n",
       "      <td>30000.000000</td>\n",
       "      <td>9000.000000</td>\n",
       "      <td>18000.0</td>\n",
       "      <td>30000.000000</td>\n",
       "      <td>50000.000000</td>\n",
       "      <td>...</td>\n",
       "      <td>2000.000000</td>\n",
       "      <td>3000.000000</td>\n",
       "      <td>700.000000</td>\n",
       "      <td>10000.000000</td>\n",
       "      <td>500.000000</td>\n",
       "      <td>1.000000e+03</td>\n",
       "      <td>800.000000</td>\n",
       "      <td>617.500000</td>\n",
       "      <td>0.000000e+00</td>\n",
       "      <td>4650.000000</td>\n",
       "    </tr>\n",
       "    <tr>\n",
       "      <th>max</th>\n",
       "      <td>1000000.000000</td>\n",
       "      <td>700000.000000</td>\n",
       "      <td>80000.000000</td>\n",
       "      <td>150000.000000</td>\n",
       "      <td>50000.000000</td>\n",
       "      <td>50000.000000</td>\n",
       "      <td>10000.000000</td>\n",
       "      <td>18000.0</td>\n",
       "      <td>100000.000000</td>\n",
       "      <td>100000.000000</td>\n",
       "      <td>...</td>\n",
       "      <td>10000.000000</td>\n",
       "      <td>400000.000000</td>\n",
       "      <td>200000.000000</td>\n",
       "      <td>200000.000000</td>\n",
       "      <td>300000.000000</td>\n",
       "      <td>1.200000e+06</td>\n",
       "      <td>40000.000000</td>\n",
       "      <td>2000.000000</td>\n",
       "      <td>2.000000e+07</td>\n",
       "      <td>1000000.000000</td>\n",
       "    </tr>\n",
       "  </tbody>\n",
       "</table>\n",
       "<p>8 rows × 273 columns</p>\n",
       "</div>"
      ],
      "text/plain": [
       "          ga006_w4_1_    ga006_w4_2_   ga006_w4_3_    ga006_w4_4_  \\\n",
       "count     1499.000000     704.000000    173.000000      54.000000   \n",
       "mean     33766.995997   31151.041193  24982.658960   27685.925926   \n",
       "std      38415.843557   34934.190006  17019.735326   26473.837175   \n",
       "min          0.000000       0.000000    500.000000     500.000000   \n",
       "25%      15000.000000   15000.000000  12000.000000   12750.000000   \n",
       "50%      30000.000000   24335.000000  21960.000000   20000.000000   \n",
       "75%      40000.000000   40000.000000  35000.000000   35750.000000   \n",
       "max    1000000.000000  700000.000000  80000.000000  150000.000000   \n",
       "\n",
       "        ga006_w4_5_   ga006_w4_6_   ga006_w4_7_  ga006_w4_8_  ga006_w4_1__min  \\\n",
       "count     11.000000      9.000000      2.000000          1.0       195.000000   \n",
       "mean   21572.727273  23277.777778   8000.000000      18000.0     27051.281250   \n",
       "std    14968.105485  17126.571299   2828.427125          NaN     22225.335938   \n",
       "min     3500.000000   2500.000000   6000.000000      18000.0      5000.000000   \n",
       "25%    10500.000000  12000.000000   7000.000000      18000.0     10000.000000   \n",
       "50%    19200.000000  15000.000000   8000.000000      18000.0     30000.000000   \n",
       "75%    33000.000000  30000.000000   9000.000000      18000.0     30000.000000   \n",
       "max    50000.000000  50000.000000  10000.000000      18000.0    100000.000000   \n",
       "\n",
       "       ga006_w4_1__max  ...      ha065_18     ha066_w4_1     ha066_w4_2  \\\n",
       "count       202.000000  ...    208.000000     981.000000     350.000000   \n",
       "mean      34133.664062  ...   1333.165894    4956.912109    1593.508571   \n",
       "std       24517.583984  ...   1874.727417   22609.279297   11637.717349   \n",
       "min        5000.000000  ...      0.000000       0.000000       0.000000   \n",
       "25%       10000.000000  ...    100.000000     800.000000     100.000000   \n",
       "50%       30000.000000  ...    565.000000    1500.000000     300.000000   \n",
       "75%       50000.000000  ...   2000.000000    3000.000000     700.000000   \n",
       "max      100000.000000  ...  10000.000000  400000.000000  200000.000000   \n",
       "\n",
       "          ha066_w4_3     ha066_w4_4    ha066_w4_5    ha066_w4_6   ha066_w4_7  \\\n",
       "count      59.000000    1189.000000  3.250000e+02    265.000000     6.000000   \n",
       "mean    15485.593220     756.040370  5.861092e+03   1093.743396   486.666667   \n",
       "std     37703.971769    8799.359756  6.766320e+04   3235.118078   803.284922   \n",
       "min         0.000000       0.000000  0.000000e+00      0.000000     0.000000   \n",
       "25%       450.000000     100.000000  2.000000e+02    100.000000    12.500000   \n",
       "50%      1300.000000     200.000000  5.000000e+02    300.000000    60.000000   \n",
       "75%     10000.000000     500.000000  1.000000e+03    800.000000   617.500000   \n",
       "max    200000.000000  300000.000000  1.200000e+06  40000.000000  2000.000000   \n",
       "\n",
       "           ha067_w4         ha068_1  \n",
       "count  1.149400e+04      598.000000  \n",
       "mean   1.578036e+04    14747.158863  \n",
       "std    3.211155e+05    71454.827185  \n",
       "min    0.000000e+00        0.000000  \n",
       "25%    0.000000e+00      700.000000  \n",
       "50%    0.000000e+00     2000.000000  \n",
       "75%    0.000000e+00     4650.000000  \n",
       "max    2.000000e+07  1000000.000000  \n",
       "\n",
       "[8 rows x 273 columns]"
      ]
     },
     "execution_count": 21,
     "metadata": {},
     "output_type": "execute_result"
    }
   ],
   "source": [
    "df.describe()"
   ]
  },
  {
   "cell_type": "code",
   "execution_count": 38,
   "id": "1bd047b7-3a6e-4428-88fe-cc0b3a4cc82a",
   "metadata": {},
   "outputs": [
    {
     "name": "stdout",
     "output_type": "stream",
     "text": [
      "0            NaN\n",
      "1            NaN\n",
      "2            NaN\n",
      "3            NaN\n",
      "4            NaN\n",
      "          ...   \n",
      "19750        NaN\n",
      "19751    40000.0\n",
      "19752     1200.0\n",
      "19753    30000.0\n",
      "19754        NaN\n",
      "Name: ga002, Length: 19755, dtype: float64\n"
     ]
    }
   ],
   "source": [
    "print(df[\"ga002\"])"
   ]
  },
  {
   "cell_type": "code",
   "execution_count": 40,
   "id": "1b919dc5-fca8-4b69-b0b8-4820525a9baa",
   "metadata": {},
   "outputs": [
    {
     "name": "stdout",
     "output_type": "stream",
     "text": [
      "0       NaN\n",
      "1       NaN\n",
      "2       NaN\n",
      "3       NaN\n",
      "4       NaN\n",
      "         ..\n",
      "19750   NaN\n",
      "19751   NaN\n",
      "19752   NaN\n",
      "19753   NaN\n",
      "19754   NaN\n",
      "Name: ga002_w2_2a, Length: 19755, dtype: float32\n"
     ]
    }
   ],
   "source": [
    "print(df[\"ga002_w2_2a\"])"
   ]
  },
  {
   "cell_type": "code",
   "execution_count": 46,
   "id": "31254f48-6e32-4beb-a6f2-0f216a518b9b",
   "metadata": {},
   "outputs": [
    {
     "name": "stdout",
     "output_type": "stream",
     "text": [
      "0       NaN\n",
      "1       NaN\n",
      "2       NaN\n",
      "3       NaN\n",
      "4       NaN\n",
      "         ..\n",
      "19750   NaN\n",
      "19751   NaN\n",
      "19752   NaN\n",
      "19753   NaN\n",
      "19754   NaN\n",
      "Name: ga003_w4_2, Length: 19755, dtype: float64\n"
     ]
    }
   ],
   "source": [
    "print(df[\"ga003_w4_2\"])"
   ]
  },
  {
   "cell_type": "code",
   "execution_count": 16,
   "id": "23aa8af4-d5ba-4b5b-ba78-7a51a7b46607",
   "metadata": {},
   "outputs": [
    {
     "data": {
      "text/plain": [
       "([<matplotlib.patches.Wedge at 0x7e7c59b2a690>,\n",
       "  <matplotlib.patches.Wedge at 0x7e7c59b2bdd0>],\n",
       " [Text(0.09904573368375477, 1.0955318081365994, 'male'),\n",
       "  Text(-0.09904573368375515, -1.0955318081365994, 'female')],\n",
       " [Text(0.054024945645684413, 0.5975628044381451, '47.1%'),\n",
       "  Text(-0.05402494564568462, -0.5975628044381451, '52.9%')])"
      ]
     },
     "execution_count": 16,
     "metadata": {},
     "output_type": "execute_result"
    },
    {
     "data": {
      "image/png": "[encoded data removed]",
      "text/plain": [
       "<Figure size 640x480 with 1 Axes>"
      ]
     },
     "metadata": {},
     "output_type": "display_data"
    }
   ],
   "source": [
    "\n",
    "#受访者性别比例的饼图\n",
    "import matplotlib.pyplot as plt\n",
    "sex=[0.4713,0.5287]\n",
    "labels=['male','female']\n",
    "plt.pie(x=sex,\n",
    "    labels=labels,\n",
    "    autopct='%.1f%%')"
   ]
  },
  {
   "cell_type": "code",
   "execution_count": 28,
   "id": "be3dff60-2ccf-42eb-b36f-68b5ef4c7924",
   "metadata": {},
   "outputs": [
    {
     "ename": "KeyError",
     "evalue": "'bb001_w3_2'",
     "output_type": "error",
     "traceback": [
      "\u001b[0;31m---------------------------------------------------------------------------\u001b[0m",
      "\u001b[0;31mKeyError\u001b[0m                                  Traceback (most recent call last)",
      "File \u001b[0;32m/opt/conda/envs/anaconda-panel-2023.05-py310/lib/python3.11/site-packages/pandas/core/indexes/base.py:3653\u001b[0m, in \u001b[0;36mIndex.get_loc\u001b[0;34m(self, key)\u001b[0m\n\u001b[1;32m   3652\u001b[0m \u001b[38;5;28;01mtry\u001b[39;00m:\n\u001b[0;32m-> 3653\u001b[0m     \u001b[38;5;28;01mreturn\u001b[39;00m \u001b[38;5;28mself\u001b[39m\u001b[38;5;241m.\u001b[39m_engine\u001b[38;5;241m.\u001b[39mget_loc(casted_key)\n\u001b[1;32m   3654\u001b[0m \u001b[38;5;28;01mexcept\u001b[39;00m \u001b[38;5;167;01mKeyError\u001b[39;00m \u001b[38;5;28;01mas\u001b[39;00m err:\n",
      "File \u001b[0;32m/opt/conda/envs/anaconda-panel-2023.05-py310/lib/python3.11/site-packages/pandas/_libs/index.pyx:147\u001b[0m, in \u001b[0;36mpandas._libs.index.IndexEngine.get_loc\u001b[0;34m()\u001b[0m\n",
      "File \u001b[0;32m/opt/conda/envs/anaconda-panel-2023.05-py310/lib/python3.11/site-packages/pandas/_libs/index.pyx:176\u001b[0m, in \u001b[0;36mpandas._libs.index.IndexEngine.get_loc\u001b[0;34m()\u001b[0m\n",
      "File \u001b[0;32mpandas/_libs/hashtable_class_helper.pxi:7080\u001b[0m, in \u001b[0;36mpandas._libs.hashtable.PyObjectHashTable.get_item\u001b[0;34m()\u001b[0m\n",
      "File \u001b[0;32mpandas/_libs/hashtable_class_helper.pxi:7088\u001b[0m, in \u001b[0;36mpandas._libs.hashtable.PyObjectHashTable.get_item\u001b[0;34m()\u001b[0m\n",
      "\u001b[0;31mKeyError\u001b[0m: 'bb001_w3_2'",
      "\nThe above exception was the direct cause of the following exception:\n",
      "\u001b[0;31mKeyError\u001b[0m                                  Traceback (most recent call last)",
      "Cell \u001b[0;32mIn[28], line 2\u001b[0m\n\u001b[1;32m      1\u001b[0m \u001b[38;5;66;03m#地区\u001b[39;00m\n\u001b[0;32m----> 2\u001b[0m missing_area\u001b[38;5;241m=\u001b[39mdf[\u001b[38;5;124m'\u001b[39m\u001b[38;5;124mbb001_w3_2\u001b[39m\u001b[38;5;124m'\u001b[39m]\u001b[38;5;241m.\u001b[39misnull()\u001b[38;5;241m.\u001b[39msum()\n\u001b[1;32m      3\u001b[0m \u001b[38;5;28mprint\u001b[39m(missing_area)\n",
      "File \u001b[0;32m/opt/conda/envs/anaconda-panel-2023.05-py310/lib/python3.11/site-packages/pandas/core/frame.py:3761\u001b[0m, in \u001b[0;36mDataFrame.__getitem__\u001b[0;34m(self, key)\u001b[0m\n\u001b[1;32m   3759\u001b[0m \u001b[38;5;28;01mif\u001b[39;00m \u001b[38;5;28mself\u001b[39m\u001b[38;5;241m.\u001b[39mcolumns\u001b[38;5;241m.\u001b[39mnlevels \u001b[38;5;241m>\u001b[39m \u001b[38;5;241m1\u001b[39m:\n\u001b[1;32m   3760\u001b[0m     \u001b[38;5;28;01mreturn\u001b[39;00m \u001b[38;5;28mself\u001b[39m\u001b[38;5;241m.\u001b[39m_getitem_multilevel(key)\n\u001b[0;32m-> 3761\u001b[0m indexer \u001b[38;5;241m=\u001b[39m \u001b[38;5;28mself\u001b[39m\u001b[38;5;241m.\u001b[39mcolumns\u001b[38;5;241m.\u001b[39mget_loc(key)\n\u001b[1;32m   3762\u001b[0m \u001b[38;5;28;01mif\u001b[39;00m is_integer(indexer):\n\u001b[1;32m   3763\u001b[0m     indexer \u001b[38;5;241m=\u001b[39m [indexer]\n",
      "File \u001b[0;32m/opt/conda/envs/anaconda-panel-2023.05-py310/lib/python3.11/site-packages/pandas/core/indexes/base.py:3655\u001b[0m, in \u001b[0;36mIndex.get_loc\u001b[0;34m(self, key)\u001b[0m\n\u001b[1;32m   3653\u001b[0m     \u001b[38;5;28;01mreturn\u001b[39;00m \u001b[38;5;28mself\u001b[39m\u001b[38;5;241m.\u001b[39m_engine\u001b[38;5;241m.\u001b[39mget_loc(casted_key)\n\u001b[1;32m   3654\u001b[0m \u001b[38;5;28;01mexcept\u001b[39;00m \u001b[38;5;167;01mKeyError\u001b[39;00m \u001b[38;5;28;01mas\u001b[39;00m err:\n\u001b[0;32m-> 3655\u001b[0m     \u001b[38;5;28;01mraise\u001b[39;00m \u001b[38;5;167;01mKeyError\u001b[39;00m(key) \u001b[38;5;28;01mfrom\u001b[39;00m \u001b[38;5;21;01merr\u001b[39;00m\n\u001b[1;32m   3656\u001b[0m \u001b[38;5;28;01mexcept\u001b[39;00m \u001b[38;5;167;01mTypeError\u001b[39;00m:\n\u001b[1;32m   3657\u001b[0m     \u001b[38;5;66;03m# If we have a listlike key, _check_indexing_error will raise\u001b[39;00m\n\u001b[1;32m   3658\u001b[0m     \u001b[38;5;66;03m#  InvalidIndexError. Otherwise we fall through and re-raise\u001b[39;00m\n\u001b[1;32m   3659\u001b[0m     \u001b[38;5;66;03m#  the TypeError.\u001b[39;00m\n\u001b[1;32m   3660\u001b[0m     \u001b[38;5;28mself\u001b[39m\u001b[38;5;241m.\u001b[39m_check_indexing_error(key)\n",
      "\u001b[0;31mKeyError\u001b[0m: 'bb001_w3_2'"
     ]
    }
   ],
   "source": [
    "#地区\n",
    "missing_area=df['bb001_w3_2'].isnull().sum()\n",
    "print(missing_area)"
   ]
  },
  {
   "cell_type": "code",
   "execution_count": 32,
   "id": "f075adbd-7769-45d1-8177-ea567d8fe6b7",
   "metadata": {},
   "outputs": [
    {
     "ename": "KeyError",
     "evalue": "'bb001_w3_2'",
     "output_type": "error",
     "traceback": [
      "\u001b[0;31m---------------------------------------------------------------------------\u001b[0m",
      "\u001b[0;31mKeyError\u001b[0m                                  Traceback (most recent call last)",
      "File \u001b[0;32m/opt/conda/envs/anaconda-panel-2023.05-py310/lib/python3.11/site-packages/pandas/core/indexes/base.py:3653\u001b[0m, in \u001b[0;36mIndex.get_loc\u001b[0;34m(self, key)\u001b[0m\n\u001b[1;32m   3652\u001b[0m \u001b[38;5;28;01mtry\u001b[39;00m:\n\u001b[0;32m-> 3653\u001b[0m     \u001b[38;5;28;01mreturn\u001b[39;00m \u001b[38;5;28mself\u001b[39m\u001b[38;5;241m.\u001b[39m_engine\u001b[38;5;241m.\u001b[39mget_loc(casted_key)\n\u001b[1;32m   3654\u001b[0m \u001b[38;5;28;01mexcept\u001b[39;00m \u001b[38;5;167;01mKeyError\u001b[39;00m \u001b[38;5;28;01mas\u001b[39;00m err:\n",
      "File \u001b[0;32m/opt/conda/envs/anaconda-panel-2023.05-py310/lib/python3.11/site-packages/pandas/_libs/index.pyx:147\u001b[0m, in \u001b[0;36mpandas._libs.index.IndexEngine.get_loc\u001b[0;34m()\u001b[0m\n",
      "File \u001b[0;32m/opt/conda/envs/anaconda-panel-2023.05-py310/lib/python3.11/site-packages/pandas/_libs/index.pyx:176\u001b[0m, in \u001b[0;36mpandas._libs.index.IndexEngine.get_loc\u001b[0;34m()\u001b[0m\n",
      "File \u001b[0;32mpandas/_libs/hashtable_class_helper.pxi:7080\u001b[0m, in \u001b[0;36mpandas._libs.hashtable.PyObjectHashTable.get_item\u001b[0;34m()\u001b[0m\n",
      "File \u001b[0;32mpandas/_libs/hashtable_class_helper.pxi:7088\u001b[0m, in \u001b[0;36mpandas._libs.hashtable.PyObjectHashTable.get_item\u001b[0;34m()\u001b[0m\n",
      "\u001b[0;31mKeyError\u001b[0m: 'bb001_w3_2'",
      "\nThe above exception was the direct cause of the following exception:\n",
      "\u001b[0;31mKeyError\u001b[0m                                  Traceback (most recent call last)",
      "Cell \u001b[0;32mIn[32], line 3\u001b[0m\n\u001b[1;32m      1\u001b[0m df_cleaned\u001b[38;5;241m=\u001b[39mdf\u001b[38;5;241m.\u001b[39mdropna\n\u001b[1;32m      2\u001b[0m \u001b[38;5;66;03m#查看地区变量的分布情况\u001b[39;00m\n\u001b[0;32m----> 3\u001b[0m value_counts \u001b[38;5;241m=\u001b[39m df[\u001b[38;5;124m'\u001b[39m\u001b[38;5;124mbb001_w3_2\u001b[39m\u001b[38;5;124m'\u001b[39m]\u001b[38;5;241m.\u001b[39mvalue_counts(dropna\u001b[38;5;241m=\u001b[39m\u001b[38;5;28;01mFalse\u001b[39;00m)\n\u001b[1;32m      4\u001b[0m \u001b[38;5;28mprint\u001b[39m(value_counts)\n\u001b[1;32m      5\u001b[0m \u001b[38;5;66;03m# 将值为 4 的项定义为缺失值\u001b[39;00m\n",
      "File \u001b[0;32m/opt/conda/envs/anaconda-panel-2023.05-py310/lib/python3.11/site-packages/pandas/core/frame.py:3761\u001b[0m, in \u001b[0;36mDataFrame.__getitem__\u001b[0;34m(self, key)\u001b[0m\n\u001b[1;32m   3759\u001b[0m \u001b[38;5;28;01mif\u001b[39;00m \u001b[38;5;28mself\u001b[39m\u001b[38;5;241m.\u001b[39mcolumns\u001b[38;5;241m.\u001b[39mnlevels \u001b[38;5;241m>\u001b[39m \u001b[38;5;241m1\u001b[39m:\n\u001b[1;32m   3760\u001b[0m     \u001b[38;5;28;01mreturn\u001b[39;00m \u001b[38;5;28mself\u001b[39m\u001b[38;5;241m.\u001b[39m_getitem_multilevel(key)\n\u001b[0;32m-> 3761\u001b[0m indexer \u001b[38;5;241m=\u001b[39m \u001b[38;5;28mself\u001b[39m\u001b[38;5;241m.\u001b[39mcolumns\u001b[38;5;241m.\u001b[39mget_loc(key)\n\u001b[1;32m   3762\u001b[0m \u001b[38;5;28;01mif\u001b[39;00m is_integer(indexer):\n\u001b[1;32m   3763\u001b[0m     indexer \u001b[38;5;241m=\u001b[39m [indexer]\n",
      "File \u001b[0;32m/opt/conda/envs/anaconda-panel-2023.05-py310/lib/python3.11/site-packages/pandas/core/indexes/base.py:3655\u001b[0m, in \u001b[0;36mIndex.get_loc\u001b[0;34m(self, key)\u001b[0m\n\u001b[1;32m   3653\u001b[0m     \u001b[38;5;28;01mreturn\u001b[39;00m \u001b[38;5;28mself\u001b[39m\u001b[38;5;241m.\u001b[39m_engine\u001b[38;5;241m.\u001b[39mget_loc(casted_key)\n\u001b[1;32m   3654\u001b[0m \u001b[38;5;28;01mexcept\u001b[39;00m \u001b[38;5;167;01mKeyError\u001b[39;00m \u001b[38;5;28;01mas\u001b[39;00m err:\n\u001b[0;32m-> 3655\u001b[0m     \u001b[38;5;28;01mraise\u001b[39;00m \u001b[38;5;167;01mKeyError\u001b[39;00m(key) \u001b[38;5;28;01mfrom\u001b[39;00m \u001b[38;5;21;01merr\u001b[39;00m\n\u001b[1;32m   3656\u001b[0m \u001b[38;5;28;01mexcept\u001b[39;00m \u001b[38;5;167;01mTypeError\u001b[39;00m:\n\u001b[1;32m   3657\u001b[0m     \u001b[38;5;66;03m# If we have a listlike key, _check_indexing_error will raise\u001b[39;00m\n\u001b[1;32m   3658\u001b[0m     \u001b[38;5;66;03m#  InvalidIndexError. Otherwise we fall through and re-raise\u001b[39;00m\n\u001b[1;32m   3659\u001b[0m     \u001b[38;5;66;03m#  the TypeError.\u001b[39;00m\n\u001b[1;32m   3660\u001b[0m     \u001b[38;5;28mself\u001b[39m\u001b[38;5;241m.\u001b[39m_check_indexing_error(key)\n",
      "\u001b[0;31mKeyError\u001b[0m: 'bb001_w3_2'"
     ]
    }
   ],
   "source": [
    "df_cleaned=df.dropna\n",
    "#查看地区变量的分布情况\n",
    "value_counts = df['bb001_w3_2'].value_counts(dropna=False)\n",
    "print(value_counts)\n",
    "# 将值为 4 的项定义为缺失值\n",
    "data['bb001_w3_2'] = df['bb001_w3_2'].replace(4, pd.NA)\n",
    "# 再次检查，确认替换成功\n",
    "print(data['bb001_w3_2'].value_counts(dropna=False)) \n",
    "data['area'] = data['bb001_w3_2'].replace({1: 'urban', 2: 'urban', 3: 'rural'})\n",
    "# 检查新分类的结果\n",
    "print(data['area'].value_counts(dropna=False).sort_index())"
   ]
  },
  {
   "cell_type": "code",
   "execution_count": 34,
   "id": "b57175dc-f252-4e89-956c-beb3f4860221",
   "metadata": {},
   "outputs": [
    {
     "data": {
      "text/plain": [
       "([<matplotlib.patches.Wedge at 0x7e7c4e62d8d0>,\n",
       "  <matplotlib.patches.Wedge at 0x7e7c4e473bd0>],\n",
       " [Text(0.6858773966273447, 0.8599838351944159, 'city'),\n",
       "  Text(-0.6858774771448392, -0.8599837709779359, 'rural')],\n",
       " [Text(0.37411494361491526, 0.4690820919242268, '28.6%'),\n",
       "  Text(-0.3741149875335486, -0.4690820568970559, '71.4%')])"
      ]
     },
     "execution_count": 34,
     "metadata": {},
     "output_type": "execute_result"
    },
    {
     "data": {
      "image/png": "[encoded data removed]",
      "text/plain": [
       "<Figure size 640x480 with 1 Axes>"
      ]
     },
     "metadata": {},
     "output_type": "display_data"
    }
   ],
   "source": [
    "area=[0.2857,0.7143]\n",
    "labels=['city','rural']\n",
    "plt.pie(x=area,\n",
    "    labels=labels,\n",
    "    autopct='%.1f%%')"
   ]
  },
  {
   "cell_type": "code",
   "execution_count": null,
   "id": "a5bd6a49-1035-4e19-b5bd-926ffdd2e414",
   "metadata": {},
   "outputs": [],
   "source": []
  }
 ],
 "metadata": {
  "kernelspec": {
   "display_name": "anaconda-panel-2023.05-py310",
   "language": "python",
   "name": "conda-env-anaconda-panel-2023.05-py310-py"
  },
  "language_info": {
   "codemirror_mode": {
    "name": "ipython",
    "version": 3
   },
   "file_extension": ".py",
   "mimetype": "text/x-python",
   "name": "python",
   "nbconvert_exporter": "python",
   "pygments_lexer": "ipython3",
   "version": "3.11.5"
  }
 },
 "nbformat": 4,
 "nbformat_minor": 5
}
